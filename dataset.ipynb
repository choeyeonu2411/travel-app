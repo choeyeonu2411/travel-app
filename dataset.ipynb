{
 "cells": [
  {
   "cell_type": "code",
   "execution_count": 1,
   "metadata": {},
   "outputs": [],
   "source": [
    "import pandas as pd"
   ]
  },
  {
   "cell_type": "code",
   "execution_count": 9,
   "metadata": {},
   "outputs": [],
   "source": [
    "df=pd.read_csv('data/travel_data.csv')"
   ]
  },
  {
   "cell_type": "code",
   "execution_count": null,
   "metadata": {},
   "outputs": [],
   "source": [
    "# 컬럼이름 바꾸기\n",
    "df=df.rename(columns={'SEQ_NO':'일렬번호','ALL_KWRD_RANK_CO':'키워드순위','SRCHWRD_NM':'검색어명','UPPER_CTGRY_NM':'카테고리(상)','LWPRT_CTGRY_NM':'카테고리(하)','CNTT_NM':'대륙','COUNTRY_NM':'국가','MOBILE_SCCNT_VALUE':'모바일검색량','PC_SCCNT_VALUE':'PC검색량','SCCNT_SM_VALUE':'총검색량','SCCNT_DE':'검색일자'})"
   ]
  },
  {
   "cell_type": "code",
   "execution_count": 11,
   "metadata": {},
   "outputs": [
    {
     "data": {
      "text/html": [
       "<div>\n",
       "<style scoped>\n",
       "    .dataframe tbody tr th:only-of-type {\n",
       "        vertical-align: middle;\n",
       "    }\n",
       "\n",
       "    .dataframe tbody tr th {\n",
       "        vertical-align: top;\n",
       "    }\n",
       "\n",
       "    .dataframe thead th {\n",
       "        text-align: right;\n",
       "    }\n",
       "</style>\n",
       "<table border=\"1\" class=\"dataframe\">\n",
       "  <thead>\n",
       "    <tr style=\"text-align: right;\">\n",
       "      <th></th>\n",
       "      <th>일렬번호</th>\n",
       "      <th>키워드순위</th>\n",
       "      <th>검색어명</th>\n",
       "      <th>카테고리(상)</th>\n",
       "      <th>카테고리(하)</th>\n",
       "      <th>대륙</th>\n",
       "      <th>국가</th>\n",
       "      <th>모바일검색량</th>\n",
       "      <th>PC검색량</th>\n",
       "      <th>총검색량</th>\n",
       "      <th>검색일자</th>\n",
       "    </tr>\n",
       "  </thead>\n",
       "  <tbody>\n",
       "    <tr>\n",
       "      <th>0</th>\n",
       "      <td>15744</td>\n",
       "      <td>1</td>\n",
       "      <td>일본여행</td>\n",
       "      <td>여행</td>\n",
       "      <td>해외여행</td>\n",
       "      <td>아시아</td>\n",
       "      <td>일본</td>\n",
       "      <td>5294</td>\n",
       "      <td>1850</td>\n",
       "      <td>7144</td>\n",
       "      <td>20190701</td>\n",
       "    </tr>\n",
       "    <tr>\n",
       "      <th>1</th>\n",
       "      <td>15745</td>\n",
       "      <td>2</td>\n",
       "      <td>대만여행</td>\n",
       "      <td>여행</td>\n",
       "      <td>해외여행</td>\n",
       "      <td>아시아</td>\n",
       "      <td>대만</td>\n",
       "      <td>4960</td>\n",
       "      <td>842</td>\n",
       "      <td>5802</td>\n",
       "      <td>20190701</td>\n",
       "    </tr>\n",
       "  </tbody>\n",
       "</table>\n",
       "</div>"
      ],
      "text/plain": [
       "    일렬번호  키워드순위  검색어명 카테고리(상) 카테고리(하)   대륙  국가  모바일검색량  PC검색량  총검색량      검색일자\n",
       "0  15744      1  일본여행      여행    해외여행  아시아  일본    5294   1850  7144  20190701\n",
       "1  15745      2  대만여행      여행    해외여행  아시아  대만    4960    842  5802  20190701"
      ]
     },
     "execution_count": 11,
     "metadata": {},
     "output_type": "execute_result"
    }
   ],
   "source": [
    "df.head(2)"
   ]
  },
  {
   "cell_type": "code",
   "execution_count": null,
   "metadata": {},
   "outputs": [],
   "source": [
    "# xgb에서 사용할 데이터셋 만들기"
   ]
  },
  {
   "cell_type": "code",
   "execution_count": null,
   "metadata": {},
   "outputs": [],
   "source": [
    "# 년월로 바꾸기\n",
    "df['검색일자']=df['검색일자'].astype(str).str[:6]\n",
    "df['검색일자']=pd.to_datetime(df['검색일자'], format='%Y%m').dt.strftime('%Y-%m')"
   ]
  },
  {
   "cell_type": "code",
   "execution_count": 17,
   "metadata": {},
   "outputs": [],
   "source": [
    "# 오세아니아의 미국을 괌으로 변경\n",
    "mask=(df['국가']=='미국')&(df['대륙']=='오세아니아')\n",
    "df.loc[mask,'국가']='괌'"
   ]
  },
  {
   "cell_type": "code",
   "execution_count": 18,
   "metadata": {},
   "outputs": [],
   "source": [
    "# 국가에 영국여행을 영국으로 변경\n",
    "mask=df[df['국가']=='영국여행']\n",
    "df.loc[mask.index,'국가']='영국'"
   ]
  },
  {
   "cell_type": "code",
   "execution_count": 19,
   "metadata": {},
   "outputs": [
    {
     "data": {
      "text/html": [
       "<div>\n",
       "<style scoped>\n",
       "    .dataframe tbody tr th:only-of-type {\n",
       "        vertical-align: middle;\n",
       "    }\n",
       "\n",
       "    .dataframe tbody tr th {\n",
       "        vertical-align: top;\n",
       "    }\n",
       "\n",
       "    .dataframe thead th {\n",
       "        text-align: right;\n",
       "    }\n",
       "</style>\n",
       "<table border=\"1\" class=\"dataframe\">\n",
       "  <thead>\n",
       "    <tr style=\"text-align: right;\">\n",
       "      <th></th>\n",
       "      <th>일렬번호</th>\n",
       "      <th>키워드순위</th>\n",
       "      <th>검색어명</th>\n",
       "      <th>카테고리(상)</th>\n",
       "      <th>카테고리(하)</th>\n",
       "      <th>대륙</th>\n",
       "      <th>국가</th>\n",
       "      <th>모바일검색량</th>\n",
       "      <th>PC검색량</th>\n",
       "      <th>총검색량</th>\n",
       "      <th>검색일자</th>\n",
       "    </tr>\n",
       "  </thead>\n",
       "  <tbody>\n",
       "    <tr>\n",
       "      <th>0</th>\n",
       "      <td>15744</td>\n",
       "      <td>1</td>\n",
       "      <td>일본여행</td>\n",
       "      <td>여행</td>\n",
       "      <td>해외여행</td>\n",
       "      <td>아시아</td>\n",
       "      <td>일본</td>\n",
       "      <td>5294</td>\n",
       "      <td>1850</td>\n",
       "      <td>7144</td>\n",
       "      <td>2019-07</td>\n",
       "    </tr>\n",
       "    <tr>\n",
       "      <th>1</th>\n",
       "      <td>15745</td>\n",
       "      <td>2</td>\n",
       "      <td>대만여행</td>\n",
       "      <td>여행</td>\n",
       "      <td>해외여행</td>\n",
       "      <td>아시아</td>\n",
       "      <td>대만</td>\n",
       "      <td>4960</td>\n",
       "      <td>842</td>\n",
       "      <td>5802</td>\n",
       "      <td>2019-07</td>\n",
       "    </tr>\n",
       "  </tbody>\n",
       "</table>\n",
       "</div>"
      ],
      "text/plain": [
       "    일렬번호  키워드순위  검색어명 카테고리(상) 카테고리(하)   대륙  국가  모바일검색량  PC검색량  총검색량     검색일자\n",
       "0  15744      1  일본여행      여행    해외여행  아시아  일본    5294   1850  7144  2019-07\n",
       "1  15745      2  대만여행      여행    해외여행  아시아  대만    4960    842  5802  2019-07"
      ]
     },
     "execution_count": 19,
     "metadata": {},
     "output_type": "execute_result"
    }
   ],
   "source": [
    "df.head(2)"
   ]
  },
  {
   "cell_type": "code",
   "execution_count": 20,
   "metadata": {},
   "outputs": [],
   "source": [
    "# 필요한 컬럼만 가져오기\n",
    "xg_df=df.loc[:,['대륙','국가','총검색량','검색일자']]"
   ]
  },
  {
   "cell_type": "code",
   "execution_count": 22,
   "metadata": {},
   "outputs": [],
   "source": [
    "# 검색일자, 국가, 대륙별로 총검색량 더하기\n",
    "df=df.groupby(['검색일자','국가','대륙'])['총검색량'].sum().reset_index()"
   ]
  },
  {
   "cell_type": "code",
   "execution_count": 23,
   "metadata": {},
   "outputs": [
    {
     "data": {
      "text/html": [
       "<div>\n",
       "<style scoped>\n",
       "    .dataframe tbody tr th:only-of-type {\n",
       "        vertical-align: middle;\n",
       "    }\n",
       "\n",
       "    .dataframe tbody tr th {\n",
       "        vertical-align: top;\n",
       "    }\n",
       "\n",
       "    .dataframe thead th {\n",
       "        text-align: right;\n",
       "    }\n",
       "</style>\n",
       "<table border=\"1\" class=\"dataframe\">\n",
       "  <thead>\n",
       "    <tr style=\"text-align: right;\">\n",
       "      <th></th>\n",
       "      <th>검색일자</th>\n",
       "      <th>국가</th>\n",
       "      <th>대륙</th>\n",
       "      <th>총검색량</th>\n",
       "    </tr>\n",
       "  </thead>\n",
       "  <tbody>\n",
       "    <tr>\n",
       "      <th>0</th>\n",
       "      <td>2019-07</td>\n",
       "      <td>괌</td>\n",
       "      <td>오세아니아</td>\n",
       "      <td>53503</td>\n",
       "    </tr>\n",
       "    <tr>\n",
       "      <th>1</th>\n",
       "      <td>2019-07</td>\n",
       "      <td>대만</td>\n",
       "      <td>아시아</td>\n",
       "      <td>223094</td>\n",
       "    </tr>\n",
       "    <tr>\n",
       "      <th>2</th>\n",
       "      <td>2019-07</td>\n",
       "      <td>라오스</td>\n",
       "      <td>아시아</td>\n",
       "      <td>3911</td>\n",
       "    </tr>\n",
       "    <tr>\n",
       "      <th>3</th>\n",
       "      <td>2019-07</td>\n",
       "      <td>러시아</td>\n",
       "      <td>아시아</td>\n",
       "      <td>162850</td>\n",
       "    </tr>\n",
       "    <tr>\n",
       "      <th>4</th>\n",
       "      <td>2019-07</td>\n",
       "      <td>몽골</td>\n",
       "      <td>아시아</td>\n",
       "      <td>66430</td>\n",
       "    </tr>\n",
       "    <tr>\n",
       "      <th>...</th>\n",
       "      <td>...</td>\n",
       "      <td>...</td>\n",
       "      <td>...</td>\n",
       "      <td>...</td>\n",
       "    </tr>\n",
       "    <tr>\n",
       "      <th>950</th>\n",
       "      <td>2025-02</td>\n",
       "      <td>인도네시아</td>\n",
       "      <td>아시아</td>\n",
       "      <td>31679</td>\n",
       "    </tr>\n",
       "    <tr>\n",
       "      <th>951</th>\n",
       "      <td>2025-02</td>\n",
       "      <td>일본</td>\n",
       "      <td>아시아</td>\n",
       "      <td>224782</td>\n",
       "    </tr>\n",
       "    <tr>\n",
       "      <th>952</th>\n",
       "      <td>2025-02</td>\n",
       "      <td>중국</td>\n",
       "      <td>아시아</td>\n",
       "      <td>52809</td>\n",
       "    </tr>\n",
       "    <tr>\n",
       "      <th>953</th>\n",
       "      <td>2025-02</td>\n",
       "      <td>태국</td>\n",
       "      <td>아시아</td>\n",
       "      <td>24522</td>\n",
       "    </tr>\n",
       "    <tr>\n",
       "      <th>954</th>\n",
       "      <td>2025-02</td>\n",
       "      <td>호주</td>\n",
       "      <td>오세아니아</td>\n",
       "      <td>2710</td>\n",
       "    </tr>\n",
       "  </tbody>\n",
       "</table>\n",
       "<p>955 rows × 4 columns</p>\n",
       "</div>"
      ],
      "text/plain": [
       "        검색일자     국가     대륙    총검색량\n",
       "0    2019-07      괌  오세아니아   53503\n",
       "1    2019-07     대만    아시아  223094\n",
       "2    2019-07    라오스    아시아    3911\n",
       "3    2019-07    러시아    아시아  162850\n",
       "4    2019-07     몽골    아시아   66430\n",
       "..       ...    ...    ...     ...\n",
       "950  2025-02  인도네시아    아시아   31679\n",
       "951  2025-02     일본    아시아  224782\n",
       "952  2025-02     중국    아시아   52809\n",
       "953  2025-02     태국    아시아   24522\n",
       "954  2025-02     호주  오세아니아    2710\n",
       "\n",
       "[955 rows x 4 columns]"
      ]
     },
     "execution_count": 23,
     "metadata": {},
     "output_type": "execute_result"
    }
   ],
   "source": [
    "df"
   ]
  },
  {
   "cell_type": "code",
   "execution_count": 26,
   "metadata": {},
   "outputs": [],
   "source": [
    "# 데이터셋 저장하기\n",
    "df.to_csv('data/travel_ko.csv',index=False)"
   ]
  },
  {
   "cell_type": "code",
   "execution_count": null,
   "metadata": {},
   "outputs": [],
   "source": []
  }
 ],
 "metadata": {
  "kernelspec": {
   "display_name": "hi",
   "language": "python",
   "name": "python3"
  },
  "language_info": {
   "codemirror_mode": {
    "name": "ipython",
    "version": 3
   },
   "file_extension": ".py",
   "mimetype": "text/x-python",
   "name": "python",
   "nbconvert_exporter": "python",
   "pygments_lexer": "ipython3",
   "version": "3.10.16"
  }
 },
 "nbformat": 4,
 "nbformat_minor": 2
}
