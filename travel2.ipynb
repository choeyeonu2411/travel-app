{
 "cells": [
  {
   "cell_type": "code",
   "execution_count": null,
   "metadata": {},
   "outputs": [],
   "source": [
    "import pandas as pd\n",
    "from sklearn.model_selection import train_test_split\n",
    "from sklearn.preprocessing import LabelEncoder\n",
    "from xgboost import XGBRegressor\n",
    "from sklearn.metrics import mean_squared_error\n",
    "import streamlit as st"
   ]
  },
  {
   "cell_type": "code",
   "execution_count": 23,
   "metadata": {},
   "outputs": [],
   "source": [
    "df=pd.read_csv('data/travel_data.csv')"
   ]
  },
  {
   "cell_type": "code",
   "execution_count": 24,
   "metadata": {},
   "outputs": [],
   "source": [
    "df=df.rename(columns={'SEQ_NO':'일렬번호','ALL_KWRD_RANK_CO':'키워드순위','SRCHWRD_NM':'검색어명','UPPER_CTGRY_NM':'카테고리(상)','LWPRT_CTGRY_NM':'카테고리(하)','CNTT_NM':'대륙','COUNTRY_NM':'국가','MOBILE_SCCNT_VALUE':'모바일검색량','PC_SCCNT_VALUE':'PC검색량','SCCNT_SM_VALUE':'총검색량','SCCNT_DE':'검색일자'})"
   ]
  },
  {
   "cell_type": "code",
   "execution_count": null,
   "metadata": {},
   "outputs": [],
   "source": [
    "df['검색일자']=df['검색일자'].astype(str).str[:4].astype(int)"
   ]
  },
  {
   "cell_type": "code",
   "execution_count": null,
   "metadata": {},
   "outputs": [],
   "source": [
    "# 2. 연도와 월을 분리\n",
    "df['연도'] = df['검색일자'].dt.year\n",
    "df['월'] = df['검색일자'].dt.month"
   ]
  },
  {
   "cell_type": "code",
   "execution_count": 27,
   "metadata": {},
   "outputs": [
    {
     "data": {
      "text/html": [
       "<div>\n",
       "<style scoped>\n",
       "    .dataframe tbody tr th:only-of-type {\n",
       "        vertical-align: middle;\n",
       "    }\n",
       "\n",
       "    .dataframe tbody tr th {\n",
       "        vertical-align: top;\n",
       "    }\n",
       "\n",
       "    .dataframe thead th {\n",
       "        text-align: right;\n",
       "    }\n",
       "</style>\n",
       "<table border=\"1\" class=\"dataframe\">\n",
       "  <thead>\n",
       "    <tr style=\"text-align: right;\">\n",
       "      <th></th>\n",
       "      <th>일렬번호</th>\n",
       "      <th>키워드순위</th>\n",
       "      <th>검색어명</th>\n",
       "      <th>카테고리(상)</th>\n",
       "      <th>카테고리(하)</th>\n",
       "      <th>대륙</th>\n",
       "      <th>국가</th>\n",
       "      <th>모바일검색량</th>\n",
       "      <th>PC검색량</th>\n",
       "      <th>총검색량</th>\n",
       "      <th>검색일자</th>\n",
       "      <th>연도</th>\n",
       "      <th>월</th>\n",
       "    </tr>\n",
       "  </thead>\n",
       "  <tbody>\n",
       "    <tr>\n",
       "      <th>0</th>\n",
       "      <td>15744</td>\n",
       "      <td>1</td>\n",
       "      <td>일본여행</td>\n",
       "      <td>여행</td>\n",
       "      <td>해외여행</td>\n",
       "      <td>아시아</td>\n",
       "      <td>일본</td>\n",
       "      <td>5294</td>\n",
       "      <td>1850</td>\n",
       "      <td>7144</td>\n",
       "      <td>2019-07-01</td>\n",
       "      <td>2019</td>\n",
       "      <td>7</td>\n",
       "    </tr>\n",
       "    <tr>\n",
       "      <th>1</th>\n",
       "      <td>15745</td>\n",
       "      <td>2</td>\n",
       "      <td>대만여행</td>\n",
       "      <td>여행</td>\n",
       "      <td>해외여행</td>\n",
       "      <td>아시아</td>\n",
       "      <td>대만</td>\n",
       "      <td>4960</td>\n",
       "      <td>842</td>\n",
       "      <td>5802</td>\n",
       "      <td>2019-07-01</td>\n",
       "      <td>2019</td>\n",
       "      <td>7</td>\n",
       "    </tr>\n",
       "  </tbody>\n",
       "</table>\n",
       "</div>"
      ],
      "text/plain": [
       "    일렬번호  키워드순위  검색어명 카테고리(상) 카테고리(하)   대륙  국가  모바일검색량  PC검색량  총검색량  \\\n",
       "0  15744      1  일본여행      여행    해외여행  아시아  일본    5294   1850  7144   \n",
       "1  15745      2  대만여행      여행    해외여행  아시아  대만    4960    842  5802   \n",
       "\n",
       "        검색일자    연도  월  \n",
       "0 2019-07-01  2019  7  \n",
       "1 2019-07-01  2019  7  "
      ]
     },
     "execution_count": 27,
     "metadata": {},
     "output_type": "execute_result"
    }
   ],
   "source": [
    "df.head(2)"
   ]
  },
  {
   "cell_type": "code",
   "execution_count": null,
   "metadata": {},
   "outputs": [],
   "source": [
    "# xgboost from xgboost import XGB클래서파이어\n",
    "# randomforest from sklearn.ensamble import 랜덤포레스트 클래서 파이어\n",
    "# knn from sklearn.nehiber import knn\n",
    "\n",
    "\n",
    "# 레그? llm\n",
    "\n"
   ]
  },
  {
   "cell_type": "code",
   "execution_count": null,
   "metadata": {},
   "outputs": [],
   "source": [
    "df[]"
   ]
  },
  {
   "cell_type": "code",
   "execution_count": null,
   "metadata": {},
   "outputs": [],
   "source": []
  }
 ],
 "metadata": {
  "kernelspec": {
   "display_name": "hi",
   "language": "python",
   "name": "python3"
  },
  "language_info": {
   "codemirror_mode": {
    "name": "ipython",
    "version": 3
   },
   "file_extension": ".py",
   "mimetype": "text/x-python",
   "name": "python",
   "nbconvert_exporter": "python",
   "pygments_lexer": "ipython3",
   "version": "3.10.16"
  }
 },
 "nbformat": 4,
 "nbformat_minor": 2
}
